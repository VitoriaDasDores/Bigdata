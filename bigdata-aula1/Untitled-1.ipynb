{
 "cells": [
  {
   "cell_type": "code",
   "execution_count": 30,
   "metadata": {},
   "outputs": [
    {
     "name": "stdout",
     "output_type": "stream",
     "text": [
      "ola\n"
     ]
    }
   ],
   "source": [
    "print('ola')\n"
   ]
  },
  {
   "cell_type": "code",
   "execution_count": 31,
   "metadata": {},
   "outputs": [
    {
     "name": "stdout",
     "output_type": "stream",
     "text": [
      "ola camila\n"
     ]
    }
   ],
   "source": [
    "nome = 'camila'\n",
    "idade = 35\n",
    "\n",
    "print('ola', nome)"
   ]
  },
  {
   "cell_type": "code",
   "execution_count": 38,
   "metadata": {},
   "outputs": [
    {
     "name": "stdout",
     "output_type": "stream",
     "text": [
      "<class 'bool'>\n",
      "<class 'str'>\n",
      "<class 'int'>\n",
      "<class 'float'>\n"
     ]
    }
   ],
   "source": [
    "pessoa = 'camila'\n",
    "idade = 35\n",
    "altura = 1.70\n",
    "desenvolvedora = True\n",
    "\n",
    "print(type(desenvolvedora))\n",
    "print(type(pessoa))\n",
    "print(type(idade))\n",
    "print(type(altura))\n"
   ]
  },
  {
   "cell_type": "code",
   "execution_count": 45,
   "metadata": {},
   "outputs": [
    {
     "name": "stdout",
     "output_type": "stream",
     "text": [
      "40\n",
      "10\n",
      "40\n",
      "10.0\n",
      "400\n",
      "ola camila voce tem 100 anos\n"
     ]
    }
   ],
   "source": [
    "nome = 'camila'\n",
    "idade1 = 20\n",
    "idade2 = 20\n",
    "sumAge = idade1 + idade2\n",
    "subAge = idade1 - 10\n",
    "multAge = idade1 * 2\n",
    "divAge = idade1/2\n",
    "expAge = idade2**2\n",
    "\n",
    "print(sumAge)\n",
    "print(subAge)\n",
    "print(multAge)\n",
    "print(divAge)\n",
    "print(expAge)\n",
    "\n",
    "print('ola', nome, 'voce tem', idade1 + 80, 'anos')"
   ]
  },
  {
   "cell_type": "code",
   "execution_count": 41,
   "metadata": {},
   "outputs": [
    {
     "data": {
      "text/plain": [
       "40"
      ]
     },
     "execution_count": 41,
     "metadata": {},
     "output_type": "execute_result"
    }
   ],
   "source": [
    "idade1 = 20\n",
    "idade2 = 20\n",
    "idade1 + idade2"
   ]
  }
 ],
 "metadata": {
  "kernelspec": {
   "display_name": "Python 3",
   "language": "python",
   "name": "python3"
  },
  "language_info": {
   "codemirror_mode": {
    "name": "ipython",
    "version": 3
   },
   "file_extension": ".py",
   "mimetype": "text/x-python",
   "name": "python",
   "nbconvert_exporter": "python",
   "pygments_lexer": "ipython3",
   "version": "3.10.2"
  }
 },
 "nbformat": 4,
 "nbformat_minor": 2
}
